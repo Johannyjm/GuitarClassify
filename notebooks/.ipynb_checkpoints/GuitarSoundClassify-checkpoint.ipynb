{
 "cells": [
  {
   "cell_type": "code",
   "execution_count": 1,
   "metadata": {},
   "outputs": [
    {
     "name": "stdout",
     "output_type": "stream",
     "text": [
      "\u001b[31mle01.m4a\u001b[m\u001b[m \u001b[31mle04.m4a\u001b[m\u001b[m \u001b[31mle07.m4a\u001b[m\u001b[m \u001b[31mle10.m4a\u001b[m\u001b[m \u001b[31mst03.m4a\u001b[m\u001b[m \u001b[31mst06.m4a\u001b[m\u001b[m \u001b[31mst09.m4a\u001b[m\u001b[m\r\n",
      "\u001b[31mle02.m4a\u001b[m\u001b[m \u001b[31mle05.m4a\u001b[m\u001b[m \u001b[31mle08.m4a\u001b[m\u001b[m \u001b[31mst01.m4a\u001b[m\u001b[m \u001b[31mst04.m4a\u001b[m\u001b[m \u001b[31mst07.m4a\u001b[m\u001b[m \u001b[31mst10.m4a\u001b[m\u001b[m\r\n",
      "\u001b[31mle03.m4a\u001b[m\u001b[m \u001b[31mle06.m4a\u001b[m\u001b[m \u001b[31mle09.m4a\u001b[m\u001b[m \u001b[31mst02.m4a\u001b[m\u001b[m \u001b[31mst05.m4a\u001b[m\u001b[m \u001b[31mst08.m4a\u001b[m\u001b[m\r\n"
     ]
    }
   ],
   "source": [
    "!ls ../data"
   ]
  },
  {
   "cell_type": "code",
   "execution_count": null,
   "metadata": {},
   "outputs": [],
   "source": []
  }
 ],
 "metadata": {
  "kernelspec": {
   "display_name": "Python 3",
   "language": "python",
   "name": "python3"
  },
  "language_info": {
   "codemirror_mode": {
    "name": "ipython",
    "version": 3
   },
   "file_extension": ".py",
   "mimetype": "text/x-python",
   "name": "python",
   "nbconvert_exporter": "python",
   "pygments_lexer": "ipython3",
   "version": "3.6.7"
  }
 },
 "nbformat": 4,
 "nbformat_minor": 2
}
