{
 "cells": [
  {
   "cell_type": "code",
   "execution_count": 6,
   "metadata": {},
   "outputs": [
    {
     "name": "stdout",
     "output_type": "stream",
     "text": [
      "LP_backing_clean.wav\n",
      "LP_backing_crunch.wav\n",
      "LP_backing_distorted.wav\n",
      "LP_backing_raw.wav\n",
      "LP_lead_clean.wav\n",
      "LP_lead_crunch.wav\n",
      "LP_lead_distorted.wav\n",
      "LP_lead_raw.wav\n",
      "ST_backing_clean.wav\n",
      "ST_backing_crunch.wav\n",
      "ST_backing_distorted.wav\n",
      "ST_backing_raw.wav\n",
      "ST_lead_clean.wav\n",
      "ST_lead_crunch.wav\n",
      "ST_lead_distorted.wav\n",
      "ST_lead_raw.wav\n"
     ]
    }
   ],
   "source": [
    "!ls ../data/30measures"
   ]
  },
  {
   "cell_type": "code",
   "execution_count": 9,
   "metadata": {},
   "outputs": [
    {
     "name": "stdout",
     "output_type": "stream",
     "text": [
      "ST_backing_raw.wav ... now processing\n",
      "ST_lead_raw.wav ... now processing\n",
      "LP_lead_raw.wav ... now processing\n",
      "ST_backing_distorted.wav ... now processing\n",
      "ST_lead_distorted.wav ... now processing\n",
      "LP_lead_distorted.wav ... now processing\n"
     ]
    },
    {
     "data": {
      "text/plain": [
       "((17832, 4851), (17832, 441))"
      ]
     },
     "execution_count": 9,
     "metadata": {},
     "output_type": "execute_result"
    }
   ],
   "source": [
    "# develop 20200121\n",
    "#generate datasets\n",
    "\n",
    "from pydub import AudioSegment\n",
    "import matplotlib.pyplot as plt\n",
    "import numpy as np\n",
    "import pathlib\n",
    "\n",
    "SEQUENCE_LENGTH = 4851\n",
    "OUTPUT_LENGTH = 441\n",
    "\n",
    "file_names = []\n",
    "input_wave = []\n",
    "output_wave = []\n",
    "\n",
    "\n",
    "for f_name in ['ST_backing_raw.wav', 'ST_lead_raw.wav', 'LP_lead_raw.wav', 'ST_backing_distorted.wav', 'ST_lead_distorted.wav', 'LP_lead_distorted.wav']:\n",
    "\n",
    "    if(\"raw\" not in f_name and \"distorted\" not in f_name): continue # input-> raw, output -> distorted, others -> continue\n",
    "\n",
    "    print(str(f_name) + ' ... now processing')\n",
    "    file_names.append(f_name)\n",
    "\n",
    "    wave_data = np.array(AudioSegment.from_file('../data/30measures/' + f_name, 'wav').get_array_of_samples())[::2]\n",
    "    # wave_data = wave_data / wave_data.max() # normalizarion\n",
    "    d_mean = wave_data.mean()\n",
    "    d_std = wave_data.std()\n",
    "    wave_data = (wave_data - d_mean) / d_std # standardization\n",
    "\n",
    "    num_proc = wave_data.shape[0] // OUTPUT_LENGTH\n",
    "\n",
    "    if(\"raw\" in f_name): wave_data = np.concatenate([np.zeros(SEQUENCE_LENGTH), wave_data])\n",
    "\n",
    "    for j in range(num_proc):\n",
    "\n",
    "        if(\"raw\" in f_name):\n",
    "            wave_frag = wave_data[j*OUTPUT_LENGTH: j*OUTPUT_LENGTH + SEQUENCE_LENGTH]\n",
    "\n",
    "            if(wave_frag.shape[0] == SEQUENCE_LENGTH): input_wave.append(wave_frag) # input -> raw (-1, 4851)\n",
    "            \n",
    "        elif(\"distorted\" in f_name):\n",
    "            wave_frag = wave_data[j*OUTPUT_LENGTH: j*OUTPUT_LENGTH+OUTPUT_LENGTH]\n",
    "\n",
    "            if(wave_frag.shape[0] == OUTPUT_LENGTH): output_wave.append(wave_frag) # output -> distorted (-1, 441)\n",
    "\n",
    "        else: raise\n",
    "\n",
    "    \n",
    "\n",
    "input_wave = np.array(input_wave)\n",
    "output_wave = np.array(output_wave)\n",
    "\n",
    "\n",
    "input_wave.shape, output_wave.shape"
   ]
  },
  {
   "cell_type": "code",
   "execution_count": 10,
   "metadata": {},
   "outputs": [
    {
     "name": "stdout",
     "output_type": "stream",
     "text": [
      "(14265, 4851) (3567, 4851) (14265, 441) (3567, 441)\n"
     ]
    },
    {
     "data": {
      "text/plain": [
       "((14265, 4851, 1), (3567, 4851, 1), (14265, 441, 1), (3567, 441, 1))"
      ]
     },
     "execution_count": 10,
     "metadata": {},
     "output_type": "execute_result"
    }
   ],
   "source": [
    "from sklearn.model_selection import train_test_split\n",
    "\n",
    "x_train, x_valid, y_train, y_valid = train_test_split(input_wave, output_wave, test_size = 0.2, random_state = 42)\n",
    "\n",
    "print(x_train.shape, x_valid.shape, y_train.shape, y_valid.shape)\n",
    "\n",
    "x_train = x_train.reshape(-1, 4851, 1)\n",
    "x_valid = x_valid.reshape(-1, 4851, 1)\n",
    "y_train = y_train.reshape(-1, 441, 1)\n",
    "y_valid = y_valid.reshape(-1, 441, 1)\n",
    "\n",
    "x_train.shape, x_valid.shape, y_train.shape, y_valid.shape"
   ]
  },
  {
   "cell_type": "code",
   "execution_count": 14,
   "metadata": {},
   "outputs": [],
   "source": [
    "from keras import backend as K\n",
    "from keras.layers import Input, CuDNNLSTM, Lambda\n",
    "from keras.optimizers import Adam\n",
    "from keras.models import Model\n",
    "\n",
    "def generate_lstm():\n",
    "    ip = Input(shape=(4851, 1))\n",
    "\n",
    "    x = CuDNNLSTM(64, return_sequences=True)(ip)\n",
    "    x = CuDNNLSTM(64, return_sequences=True)(x)\n",
    "    x = CuDNNLSTM(1, return_sequences=True)(x)\n",
    "    x = Lambda(lambda x: x[:, -OUTPUT_LENGTH: ])(x)\n",
    "    \n",
    "    \n",
    "\n",
    "    model = Model(ip, x)\n",
    "\n",
    "    return model"
   ]
  },
  {
   "cell_type": "code",
   "execution_count": null,
   "metadata": {},
   "outputs": [
    {
     "name": "stdout",
     "output_type": "stream",
     "text": [
      "Train on 14265 samples, validate on 3567 samples\n",
      "Epoch 1/170\n",
      "14265/14265 [==============================] - 443s 31ms/step - loss: 0.9712 - mean_absolute_error: 0.7550 - mean_squared_error: 0.9712 - val_loss: 0.9488 - val_mean_absolute_error: 0.7482 - val_mean_squared_error: 0.9488\n",
      "Epoch 2/170\n",
      "14265/14265 [==============================] - 432s 30ms/step - loss: 0.9457 - mean_absolute_error: 0.7463 - mean_squared_error: 0.9457 - val_loss: 1.0810 - val_mean_absolute_error: 0.8180 - val_mean_squared_error: 1.0810\n",
      "Epoch 3/170\n",
      "14265/14265 [==============================] - 417s 29ms/step - loss: 0.9974 - mean_absolute_error: 0.7648 - mean_squared_error: 0.9974 - val_loss: 0.9917 - val_mean_absolute_error: 0.7639 - val_mean_squared_error: 0.9917\n",
      "Epoch 4/170\n",
      "14265/14265 [==============================] - 415s 29ms/step - loss: 0.9899 - mean_absolute_error: 0.7620 - mean_squared_error: 0.9899 - val_loss: 0.9850 - val_mean_absolute_error: 0.7628 - val_mean_squared_error: 0.9850\n",
      "Epoch 5/170\n",
      "14265/14265 [==============================] - 410s 29ms/step - loss: 0.9589 - mean_absolute_error: 0.7514 - mean_squared_error: 0.9589 - val_loss: 0.9546 - val_mean_absolute_error: 0.7508 - val_mean_squared_error: 0.9546\n",
      "Epoch 6/170\n",
      "14265/14265 [==============================] - 414s 29ms/step - loss: 0.9486 - mean_absolute_error: 0.7472 - mean_squared_error: 0.9486 - val_loss: 0.9504 - val_mean_absolute_error: 0.7505 - val_mean_squared_error: 0.9504\n",
      "Epoch 7/170\n",
      "14265/14265 [==============================] - 416s 29ms/step - loss: 0.9450 - mean_absolute_error: 0.7456 - mean_squared_error: 0.9450 - val_loss: 0.9759 - val_mean_absolute_error: 0.7581 - val_mean_squared_error: 0.9759\n",
      "Epoch 8/170\n",
      "14265/14265 [==============================] - 412s 29ms/step - loss: 0.9588 - mean_absolute_error: 0.7511 - mean_squared_error: 0.9588 - val_loss: 0.9453 - val_mean_absolute_error: 0.7474 - val_mean_squared_error: 0.9453\n",
      "Epoch 9/170\n",
      "14265/14265 [==============================] - 414s 29ms/step - loss: 0.9389 - mean_absolute_error: 0.7439 - mean_squared_error: 0.9389 - val_loss: 0.9283 - val_mean_absolute_error: 0.7395 - val_mean_squared_error: 0.9283\n",
      "Epoch 10/170\n",
      "14265/14265 [==============================] - 414s 29ms/step - loss: 0.9297 - mean_absolute_error: 0.7394 - mean_squared_error: 0.9297 - val_loss: 0.9198 - val_mean_absolute_error: 0.7365 - val_mean_squared_error: 0.9198\n",
      "Epoch 11/170\n",
      " 8672/14265 [=================>............] - ETA: 2:25 - loss: 0.9267 - mean_absolute_error: 0.7375 - mean_squared_error: 0.9267"
     ]
    }
   ],
   "source": [
    "K.clear_session()\n",
    "\n",
    "model = generate_lstm()\n",
    "model.compile(optimizer = 'adam', loss = 'mse', metrics = ['mae', 'mse'])\n",
    "\n",
    "history = model.fit(x_train, y_train, batch_size = 16, epochs = 170, verbose = 1, validation_data = (x_valid, y_valid))"
   ]
  },
  {
   "cell_type": "code",
   "execution_count": null,
   "metadata": {},
   "outputs": [],
   "source": []
  }
 ],
 "metadata": {
  "kernelspec": {
   "display_name": "Python 3",
   "language": "python",
   "name": "python3"
  },
  "language_info": {
   "codemirror_mode": {
    "name": "ipython",
    "version": 3
   },
   "file_extension": ".py",
   "mimetype": "text/x-python",
   "name": "python",
   "nbconvert_exporter": "python",
   "pygments_lexer": "ipython3",
   "version": "3.6.7"
  }
 },
 "nbformat": 4,
 "nbformat_minor": 2
}
